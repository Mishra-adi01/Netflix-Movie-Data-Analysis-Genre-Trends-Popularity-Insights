{
 "cells": [
  {
   "cell_type": "code",
   "execution_count": 1,
   "id": "5f2913c3-54df-4918-9873-fa7c987ba558",
   "metadata": {},
   "outputs": [],
   "source": [
    "import pandas as pd\n",
    "import numpy as np \n",
    "import seaborn as sns \n",
    "import matplotlib.pyplot as plt"
   ]
  },
  {
   "cell_type": "code",
   "execution_count": 2,
   "id": "9fc464cb-4a24-4415-89da-7a27aad4042b",
   "metadata": {},
   "outputs": [],
   "source": [
    "df = pd.read_csv('mymoviedb.csv', lineterminator= '\\n')"
   ]
  },
  {
   "cell_type": "code",
   "execution_count": 3,
   "id": "c95dbb60-9428-433d-b1bc-316faa8fdacc",
   "metadata": {},
   "outputs": [
    {
     "data": {
      "text/html": [
       "<div>\n",
       "<style scoped>\n",
       "    .dataframe tbody tr th:only-of-type {\n",
       "        vertical-align: middle;\n",
       "    }\n",
       "\n",
       "    .dataframe tbody tr th {\n",
       "        vertical-align: top;\n",
       "    }\n",
       "\n",
       "    .dataframe thead th {\n",
       "        text-align: right;\n",
       "    }\n",
       "</style>\n",
       "<table border=\"1\" class=\"dataframe\">\n",
       "  <thead>\n",
       "    <tr style=\"text-align: right;\">\n",
       "      <th></th>\n",
       "      <th>Release_Date</th>\n",
       "      <th>Title</th>\n",
       "      <th>Overview</th>\n",
       "      <th>Popularity</th>\n",
       "      <th>Vote_Count</th>\n",
       "      <th>Vote_Average</th>\n",
       "      <th>Original_Language</th>\n",
       "      <th>Genre</th>\n",
       "      <th>Poster_Url</th>\n",
       "    </tr>\n",
       "  </thead>\n",
       "  <tbody>\n",
       "    <tr>\n",
       "      <th>0</th>\n",
       "      <td>2021-12-15</td>\n",
       "      <td>Spider-Man: No Way Home</td>\n",
       "      <td>Peter Parker is unmasked and no longer able to...</td>\n",
       "      <td>5083.954</td>\n",
       "      <td>8940</td>\n",
       "      <td>8.3</td>\n",
       "      <td>en</td>\n",
       "      <td>Action, Adventure, Science Fiction</td>\n",
       "      <td>https://image.tmdb.org/t/p/original/1g0dhYtq4i...</td>\n",
       "    </tr>\n",
       "    <tr>\n",
       "      <th>1</th>\n",
       "      <td>2022-03-01</td>\n",
       "      <td>The Batman</td>\n",
       "      <td>In his second year of fighting crime, Batman u...</td>\n",
       "      <td>3827.658</td>\n",
       "      <td>1151</td>\n",
       "      <td>8.1</td>\n",
       "      <td>en</td>\n",
       "      <td>Crime, Mystery, Thriller</td>\n",
       "      <td>https://image.tmdb.org/t/p/original/74xTEgt7R3...</td>\n",
       "    </tr>\n",
       "    <tr>\n",
       "      <th>2</th>\n",
       "      <td>2022-02-25</td>\n",
       "      <td>No Exit</td>\n",
       "      <td>Stranded at a rest stop in the mountains durin...</td>\n",
       "      <td>2618.087</td>\n",
       "      <td>122</td>\n",
       "      <td>6.3</td>\n",
       "      <td>en</td>\n",
       "      <td>Thriller</td>\n",
       "      <td>https://image.tmdb.org/t/p/original/vDHsLnOWKl...</td>\n",
       "    </tr>\n",
       "    <tr>\n",
       "      <th>3</th>\n",
       "      <td>2021-11-24</td>\n",
       "      <td>Encanto</td>\n",
       "      <td>The tale of an extraordinary family, the Madri...</td>\n",
       "      <td>2402.201</td>\n",
       "      <td>5076</td>\n",
       "      <td>7.7</td>\n",
       "      <td>en</td>\n",
       "      <td>Animation, Comedy, Family, Fantasy</td>\n",
       "      <td>https://image.tmdb.org/t/p/original/4j0PNHkMr5...</td>\n",
       "    </tr>\n",
       "    <tr>\n",
       "      <th>4</th>\n",
       "      <td>2021-12-22</td>\n",
       "      <td>The King's Man</td>\n",
       "      <td>As a collection of history's worst tyrants and...</td>\n",
       "      <td>1895.511</td>\n",
       "      <td>1793</td>\n",
       "      <td>7.0</td>\n",
       "      <td>en</td>\n",
       "      <td>Action, Adventure, Thriller, War</td>\n",
       "      <td>https://image.tmdb.org/t/p/original/aq4Pwv5Xeu...</td>\n",
       "    </tr>\n",
       "  </tbody>\n",
       "</table>\n",
       "</div>"
      ],
      "text/plain": [
       "  Release_Date                    Title  \\\n",
       "0   2021-12-15  Spider-Man: No Way Home   \n",
       "1   2022-03-01               The Batman   \n",
       "2   2022-02-25                  No Exit   \n",
       "3   2021-11-24                  Encanto   \n",
       "4   2021-12-22           The King's Man   \n",
       "\n",
       "                                            Overview  Popularity  Vote_Count  \\\n",
       "0  Peter Parker is unmasked and no longer able to...    5083.954        8940   \n",
       "1  In his second year of fighting crime, Batman u...    3827.658        1151   \n",
       "2  Stranded at a rest stop in the mountains durin...    2618.087         122   \n",
       "3  The tale of an extraordinary family, the Madri...    2402.201        5076   \n",
       "4  As a collection of history's worst tyrants and...    1895.511        1793   \n",
       "\n",
       "   Vote_Average Original_Language                               Genre  \\\n",
       "0           8.3                en  Action, Adventure, Science Fiction   \n",
       "1           8.1                en            Crime, Mystery, Thriller   \n",
       "2           6.3                en                            Thriller   \n",
       "3           7.7                en  Animation, Comedy, Family, Fantasy   \n",
       "4           7.0                en    Action, Adventure, Thriller, War   \n",
       "\n",
       "                                          Poster_Url  \n",
       "0  https://image.tmdb.org/t/p/original/1g0dhYtq4i...  \n",
       "1  https://image.tmdb.org/t/p/original/74xTEgt7R3...  \n",
       "2  https://image.tmdb.org/t/p/original/vDHsLnOWKl...  \n",
       "3  https://image.tmdb.org/t/p/original/4j0PNHkMr5...  \n",
       "4  https://image.tmdb.org/t/p/original/aq4Pwv5Xeu...  "
      ]
     },
     "execution_count": 3,
     "metadata": {},
     "output_type": "execute_result"
    }
   ],
   "source": [
    "df.head()"
   ]
  },
  {
   "cell_type": "code",
   "execution_count": 4,
   "id": "fbf9c08b-e55c-4d52-8442-b00fee70ff6e",
   "metadata": {},
   "outputs": [
    {
     "name": "stdout",
     "output_type": "stream",
     "text": [
      "<class 'pandas.core.frame.DataFrame'>\n",
      "RangeIndex: 9827 entries, 0 to 9826\n",
      "Data columns (total 9 columns):\n",
      " #   Column             Non-Null Count  Dtype  \n",
      "---  ------             --------------  -----  \n",
      " 0   Release_Date       9827 non-null   object \n",
      " 1   Title              9827 non-null   object \n",
      " 2   Overview           9827 non-null   object \n",
      " 3   Popularity         9827 non-null   float64\n",
      " 4   Vote_Count         9827 non-null   int64  \n",
      " 5   Vote_Average       9827 non-null   float64\n",
      " 6   Original_Language  9827 non-null   object \n",
      " 7   Genre              9827 non-null   object \n",
      " 8   Poster_Url         9827 non-null   object \n",
      "dtypes: float64(2), int64(1), object(6)\n",
      "memory usage: 691.1+ KB\n"
     ]
    }
   ],
   "source": [
    "df.info()"
   ]
  },
  {
   "cell_type": "code",
   "execution_count": 5,
   "id": "404c2abe-fed1-4007-8cdc-cfae224450fd",
   "metadata": {},
   "outputs": [
    {
     "data": {
      "text/plain": [
       "0    Action, Adventure, Science Fiction\n",
       "1              Crime, Mystery, Thriller\n",
       "2                              Thriller\n",
       "3    Animation, Comedy, Family, Fantasy\n",
       "4      Action, Adventure, Thriller, War\n",
       "Name: Genre, dtype: object"
      ]
     },
     "execution_count": 5,
     "metadata": {},
     "output_type": "execute_result"
    }
   ],
   "source": [
    "df['Genre'].head()"
   ]
  },
  {
   "cell_type": "code",
   "execution_count": 6,
   "id": "3ff2f8bd-5fb8-4fa1-abc5-2be9a4b14aa3",
   "metadata": {},
   "outputs": [
    {
     "data": {
      "text/plain": [
       "np.int64(0)"
      ]
     },
     "execution_count": 6,
     "metadata": {},
     "output_type": "execute_result"
    }
   ],
   "source": [
    "df.duplicated().sum() "
   ]
  },
  {
   "cell_type": "code",
   "execution_count": 7,
   "id": "e1ed0da6-f33a-4fb7-bf49-d6b2c38df2aa",
   "metadata": {},
   "outputs": [
    {
     "data": {
      "text/html": [
       "<div>\n",
       "<style scoped>\n",
       "    .dataframe tbody tr th:only-of-type {\n",
       "        vertical-align: middle;\n",
       "    }\n",
       "\n",
       "    .dataframe tbody tr th {\n",
       "        vertical-align: top;\n",
       "    }\n",
       "\n",
       "    .dataframe thead th {\n",
       "        text-align: right;\n",
       "    }\n",
       "</style>\n",
       "<table border=\"1\" class=\"dataframe\">\n",
       "  <thead>\n",
       "    <tr style=\"text-align: right;\">\n",
       "      <th></th>\n",
       "      <th>Popularity</th>\n",
       "      <th>Vote_Count</th>\n",
       "      <th>Vote_Average</th>\n",
       "    </tr>\n",
       "  </thead>\n",
       "  <tbody>\n",
       "    <tr>\n",
       "      <th>count</th>\n",
       "      <td>9827.000000</td>\n",
       "      <td>9827.000000</td>\n",
       "      <td>9827.000000</td>\n",
       "    </tr>\n",
       "    <tr>\n",
       "      <th>mean</th>\n",
       "      <td>40.326088</td>\n",
       "      <td>1392.805536</td>\n",
       "      <td>6.439534</td>\n",
       "    </tr>\n",
       "    <tr>\n",
       "      <th>std</th>\n",
       "      <td>108.873998</td>\n",
       "      <td>2611.206907</td>\n",
       "      <td>1.129759</td>\n",
       "    </tr>\n",
       "    <tr>\n",
       "      <th>min</th>\n",
       "      <td>13.354000</td>\n",
       "      <td>0.000000</td>\n",
       "      <td>0.000000</td>\n",
       "    </tr>\n",
       "    <tr>\n",
       "      <th>25%</th>\n",
       "      <td>16.128500</td>\n",
       "      <td>146.000000</td>\n",
       "      <td>5.900000</td>\n",
       "    </tr>\n",
       "    <tr>\n",
       "      <th>50%</th>\n",
       "      <td>21.199000</td>\n",
       "      <td>444.000000</td>\n",
       "      <td>6.500000</td>\n",
       "    </tr>\n",
       "    <tr>\n",
       "      <th>75%</th>\n",
       "      <td>35.191500</td>\n",
       "      <td>1376.000000</td>\n",
       "      <td>7.100000</td>\n",
       "    </tr>\n",
       "    <tr>\n",
       "      <th>max</th>\n",
       "      <td>5083.954000</td>\n",
       "      <td>31077.000000</td>\n",
       "      <td>10.000000</td>\n",
       "    </tr>\n",
       "  </tbody>\n",
       "</table>\n",
       "</div>"
      ],
      "text/plain": [
       "        Popularity    Vote_Count  Vote_Average\n",
       "count  9827.000000   9827.000000   9827.000000\n",
       "mean     40.326088   1392.805536      6.439534\n",
       "std     108.873998   2611.206907      1.129759\n",
       "min      13.354000      0.000000      0.000000\n",
       "25%      16.128500    146.000000      5.900000\n",
       "50%      21.199000    444.000000      6.500000\n",
       "75%      35.191500   1376.000000      7.100000\n",
       "max    5083.954000  31077.000000     10.000000"
      ]
     },
     "execution_count": 7,
     "metadata": {},
     "output_type": "execute_result"
    }
   ],
   "source": [
    "df.describe()"
   ]
  },
  {
   "cell_type": "raw",
   "id": "6ca27ce9-1df5-4400-8c46-0327bfe1a0a2",
   "metadata": {},
   "source": [
    "Exploration Summary\n",
    "\n",
    "1. We have a dataframe consisting of 9827 rows and 9 columns.\n",
    "2.Our dataset looks a bit tidy with no NaNs nor duplicated values.\n",
    "3.Release_Date column needs to be casted into date time and to extract only the year value.\n",
    "4.Overview, Original_Language and Poster-Url wouldn't be so useful during analysis, so we'll drop them.\n",
    "5.There is noticable outliers in Popularity column.\n",
    "6.Vote_Average better be categorised for proper analysis.\n",
    "7.Genre column has comma saperated values and white spaces that needs to be handled and casted into category "
   ]
  },
  {
   "cell_type": "code",
   "execution_count": 8,
   "id": "b735b223-294b-47af-b177-6f3fb357a856",
   "metadata": {},
   "outputs": [],
   "source": [
    "# Convert Release_Date to datetime format\n",
    "df['Release_Date'] = pd.to_datetime(df['Release_Date']) \n",
    "\n",
    "# Extract the year from the Release_Date column\n",
    "df['year'] = df['Release_Date'].dt.year"
   ]
  },
  {
   "cell_type": "code",
   "execution_count": 9,
   "id": "8e151d31-5d6c-4b18-b6b8-22efbdd4edc3",
   "metadata": {},
   "outputs": [],
   "source": [
    "# Droping the columns \n",
    "\n",
    "cols = ['Overview', 'Original_Language', 'Poster_Url']\n",
    "\n",
    "df.drop(cols, axis=1, inplace=True)"
   ]
  },
  {
   "cell_type": "code",
   "execution_count": 10,
   "id": "85b60ebe-1078-416c-8493-128b113284c7",
   "metadata": {},
   "outputs": [
    {
     "data": {
      "text/html": [
       "<div>\n",
       "<style scoped>\n",
       "    .dataframe tbody tr th:only-of-type {\n",
       "        vertical-align: middle;\n",
       "    }\n",
       "\n",
       "    .dataframe tbody tr th {\n",
       "        vertical-align: top;\n",
       "    }\n",
       "\n",
       "    .dataframe thead th {\n",
       "        text-align: right;\n",
       "    }\n",
       "</style>\n",
       "<table border=\"1\" class=\"dataframe\">\n",
       "  <thead>\n",
       "    <tr style=\"text-align: right;\">\n",
       "      <th></th>\n",
       "      <th>Release_Date</th>\n",
       "      <th>Title</th>\n",
       "      <th>Popularity</th>\n",
       "      <th>Vote_Count</th>\n",
       "      <th>Vote_Average</th>\n",
       "      <th>Genre</th>\n",
       "      <th>year</th>\n",
       "    </tr>\n",
       "  </thead>\n",
       "  <tbody>\n",
       "    <tr>\n",
       "      <th>0</th>\n",
       "      <td>2021-12-15</td>\n",
       "      <td>Spider-Man: No Way Home</td>\n",
       "      <td>5083.954</td>\n",
       "      <td>8940</td>\n",
       "      <td>8.3</td>\n",
       "      <td>Action, Adventure, Science Fiction</td>\n",
       "      <td>2021</td>\n",
       "    </tr>\n",
       "    <tr>\n",
       "      <th>1</th>\n",
       "      <td>2022-03-01</td>\n",
       "      <td>The Batman</td>\n",
       "      <td>3827.658</td>\n",
       "      <td>1151</td>\n",
       "      <td>8.1</td>\n",
       "      <td>Crime, Mystery, Thriller</td>\n",
       "      <td>2022</td>\n",
       "    </tr>\n",
       "    <tr>\n",
       "      <th>2</th>\n",
       "      <td>2022-02-25</td>\n",
       "      <td>No Exit</td>\n",
       "      <td>2618.087</td>\n",
       "      <td>122</td>\n",
       "      <td>6.3</td>\n",
       "      <td>Thriller</td>\n",
       "      <td>2022</td>\n",
       "    </tr>\n",
       "    <tr>\n",
       "      <th>3</th>\n",
       "      <td>2021-11-24</td>\n",
       "      <td>Encanto</td>\n",
       "      <td>2402.201</td>\n",
       "      <td>5076</td>\n",
       "      <td>7.7</td>\n",
       "      <td>Animation, Comedy, Family, Fantasy</td>\n",
       "      <td>2021</td>\n",
       "    </tr>\n",
       "    <tr>\n",
       "      <th>4</th>\n",
       "      <td>2021-12-22</td>\n",
       "      <td>The King's Man</td>\n",
       "      <td>1895.511</td>\n",
       "      <td>1793</td>\n",
       "      <td>7.0</td>\n",
       "      <td>Action, Adventure, Thriller, War</td>\n",
       "      <td>2021</td>\n",
       "    </tr>\n",
       "  </tbody>\n",
       "</table>\n",
       "</div>"
      ],
      "text/plain": [
       "  Release_Date                    Title  Popularity  Vote_Count  Vote_Average  \\\n",
       "0   2021-12-15  Spider-Man: No Way Home    5083.954        8940           8.3   \n",
       "1   2022-03-01               The Batman    3827.658        1151           8.1   \n",
       "2   2022-02-25                  No Exit    2618.087         122           6.3   \n",
       "3   2021-11-24                  Encanto    2402.201        5076           7.7   \n",
       "4   2021-12-22           The King's Man    1895.511        1793           7.0   \n",
       "\n",
       "                                Genre  year  \n",
       "0  Action, Adventure, Science Fiction  2021  \n",
       "1            Crime, Mystery, Thriller  2022  \n",
       "2                            Thriller  2022  \n",
       "3  Animation, Comedy, Family, Fantasy  2021  \n",
       "4    Action, Adventure, Thriller, War  2021  "
      ]
     },
     "execution_count": 10,
     "metadata": {},
     "output_type": "execute_result"
    }
   ],
   "source": [
    "df.head()"
   ]
  },
  {
   "cell_type": "markdown",
   "id": "fe40da12-4073-4f32-a5e3-3d4a5bcc736a",
   "metadata": {},
   "source": [
    "**Categorizing 'Vote_Average' Column**\n",
    "\n",
    "We would cut the 'Vote_Average' values and make 4 categories: 'popular' 'average' 'below_avg' 'not_popular' to describe it more using catigorize_col() function provided above."
   ]
  },
  {
   "cell_type": "code",
   "execution_count": 11,
   "id": "49a19065-8548-41c7-8517-7aca165d81a4",
   "metadata": {},
   "outputs": [],
   "source": [
    "def categorize_col(df, col_name):\n",
    "    # Define bins and their corresponding category labels\n",
    "    bins = [0, 4, 6, 8, 10]  # Thresholds for the categories\n",
    "    labels = ['not_popular', 'below_avg', 'average', 'popular']  # Category labels\n",
    "    \n",
    "    # Use panda's cut method to categorize values in the column\n",
    "    df[col_name] = pd.cut(df[col_name], bins=bins, labels=labels, include_lowest=True)\n",
    "    return df"
   ]
  },
  {
   "cell_type": "code",
   "execution_count": 12,
   "id": "d53950c5-c522-474a-896a-43324e8fa082",
   "metadata": {},
   "outputs": [
    {
     "data": {
      "text/html": [
       "<div>\n",
       "<style scoped>\n",
       "    .dataframe tbody tr th:only-of-type {\n",
       "        vertical-align: middle;\n",
       "    }\n",
       "\n",
       "    .dataframe tbody tr th {\n",
       "        vertical-align: top;\n",
       "    }\n",
       "\n",
       "    .dataframe thead th {\n",
       "        text-align: right;\n",
       "    }\n",
       "</style>\n",
       "<table border=\"1\" class=\"dataframe\">\n",
       "  <thead>\n",
       "    <tr style=\"text-align: right;\">\n",
       "      <th></th>\n",
       "      <th>Release_Date</th>\n",
       "      <th>Title</th>\n",
       "      <th>Popularity</th>\n",
       "      <th>Vote_Count</th>\n",
       "      <th>Vote_Average</th>\n",
       "      <th>Genre</th>\n",
       "      <th>year</th>\n",
       "    </tr>\n",
       "  </thead>\n",
       "  <tbody>\n",
       "    <tr>\n",
       "      <th>0</th>\n",
       "      <td>2021-12-15</td>\n",
       "      <td>Spider-Man: No Way Home</td>\n",
       "      <td>5083.954</td>\n",
       "      <td>8940</td>\n",
       "      <td>popular</td>\n",
       "      <td>Action, Adventure, Science Fiction</td>\n",
       "      <td>2021</td>\n",
       "    </tr>\n",
       "    <tr>\n",
       "      <th>1</th>\n",
       "      <td>2022-03-01</td>\n",
       "      <td>The Batman</td>\n",
       "      <td>3827.658</td>\n",
       "      <td>1151</td>\n",
       "      <td>popular</td>\n",
       "      <td>Crime, Mystery, Thriller</td>\n",
       "      <td>2022</td>\n",
       "    </tr>\n",
       "    <tr>\n",
       "      <th>2</th>\n",
       "      <td>2022-02-25</td>\n",
       "      <td>No Exit</td>\n",
       "      <td>2618.087</td>\n",
       "      <td>122</td>\n",
       "      <td>average</td>\n",
       "      <td>Thriller</td>\n",
       "      <td>2022</td>\n",
       "    </tr>\n",
       "    <tr>\n",
       "      <th>3</th>\n",
       "      <td>2021-11-24</td>\n",
       "      <td>Encanto</td>\n",
       "      <td>2402.201</td>\n",
       "      <td>5076</td>\n",
       "      <td>average</td>\n",
       "      <td>Animation, Comedy, Family, Fantasy</td>\n",
       "      <td>2021</td>\n",
       "    </tr>\n",
       "    <tr>\n",
       "      <th>4</th>\n",
       "      <td>2021-12-22</td>\n",
       "      <td>The King's Man</td>\n",
       "      <td>1895.511</td>\n",
       "      <td>1793</td>\n",
       "      <td>average</td>\n",
       "      <td>Action, Adventure, Thriller, War</td>\n",
       "      <td>2021</td>\n",
       "    </tr>\n",
       "    <tr>\n",
       "      <th>...</th>\n",
       "      <td>...</td>\n",
       "      <td>...</td>\n",
       "      <td>...</td>\n",
       "      <td>...</td>\n",
       "      <td>...</td>\n",
       "      <td>...</td>\n",
       "      <td>...</td>\n",
       "    </tr>\n",
       "    <tr>\n",
       "      <th>9822</th>\n",
       "      <td>1973-10-15</td>\n",
       "      <td>Badlands</td>\n",
       "      <td>13.357</td>\n",
       "      <td>896</td>\n",
       "      <td>average</td>\n",
       "      <td>Drama, Crime</td>\n",
       "      <td>1973</td>\n",
       "    </tr>\n",
       "    <tr>\n",
       "      <th>9823</th>\n",
       "      <td>2020-10-01</td>\n",
       "      <td>Violent Delights</td>\n",
       "      <td>13.356</td>\n",
       "      <td>8</td>\n",
       "      <td>not_popular</td>\n",
       "      <td>Horror</td>\n",
       "      <td>2020</td>\n",
       "    </tr>\n",
       "    <tr>\n",
       "      <th>9824</th>\n",
       "      <td>2016-05-06</td>\n",
       "      <td>The Offering</td>\n",
       "      <td>13.355</td>\n",
       "      <td>94</td>\n",
       "      <td>below_avg</td>\n",
       "      <td>Mystery, Thriller, Horror</td>\n",
       "      <td>2016</td>\n",
       "    </tr>\n",
       "    <tr>\n",
       "      <th>9825</th>\n",
       "      <td>2021-03-31</td>\n",
       "      <td>The United States vs. Billie Holiday</td>\n",
       "      <td>13.354</td>\n",
       "      <td>152</td>\n",
       "      <td>average</td>\n",
       "      <td>Music, Drama, History</td>\n",
       "      <td>2021</td>\n",
       "    </tr>\n",
       "    <tr>\n",
       "      <th>9826</th>\n",
       "      <td>1984-09-23</td>\n",
       "      <td>Threads</td>\n",
       "      <td>13.354</td>\n",
       "      <td>186</td>\n",
       "      <td>average</td>\n",
       "      <td>War, Drama, Science Fiction</td>\n",
       "      <td>1984</td>\n",
       "    </tr>\n",
       "  </tbody>\n",
       "</table>\n",
       "<p>9827 rows × 7 columns</p>\n",
       "</div>"
      ],
      "text/plain": [
       "     Release_Date                                 Title  Popularity  \\\n",
       "0      2021-12-15               Spider-Man: No Way Home    5083.954   \n",
       "1      2022-03-01                            The Batman    3827.658   \n",
       "2      2022-02-25                               No Exit    2618.087   \n",
       "3      2021-11-24                               Encanto    2402.201   \n",
       "4      2021-12-22                        The King's Man    1895.511   \n",
       "...           ...                                   ...         ...   \n",
       "9822   1973-10-15                              Badlands      13.357   \n",
       "9823   2020-10-01                      Violent Delights      13.356   \n",
       "9824   2016-05-06                          The Offering      13.355   \n",
       "9825   2021-03-31  The United States vs. Billie Holiday      13.354   \n",
       "9826   1984-09-23                               Threads      13.354   \n",
       "\n",
       "      Vote_Count Vote_Average                               Genre  year  \n",
       "0           8940      popular  Action, Adventure, Science Fiction  2021  \n",
       "1           1151      popular            Crime, Mystery, Thriller  2022  \n",
       "2            122      average                            Thriller  2022  \n",
       "3           5076      average  Animation, Comedy, Family, Fantasy  2021  \n",
       "4           1793      average    Action, Adventure, Thriller, War  2021  \n",
       "...          ...          ...                                 ...   ...  \n",
       "9822         896      average                        Drama, Crime  1973  \n",
       "9823           8  not_popular                              Horror  2020  \n",
       "9824          94    below_avg           Mystery, Thriller, Horror  2016  \n",
       "9825         152      average               Music, Drama, History  2021  \n",
       "9826         186      average         War, Drama, Science Fiction  1984  \n",
       "\n",
       "[9827 rows x 7 columns]"
      ]
     },
     "execution_count": 12,
     "metadata": {},
     "output_type": "execute_result"
    }
   ],
   "source": [
    "df = categorize_col(df, 'Vote_Average')\n",
    "df"
   ]
  },
  {
   "cell_type": "code",
   "execution_count": 13,
   "id": "a52c6070-c951-4f44-b281-675efdd17349",
   "metadata": {},
   "outputs": [
    {
     "data": {
      "text/plain": [
       "Vote_Average\n",
       "average        6603\n",
       "below_avg      2705\n",
       "popular         314\n",
       "not_popular     205\n",
       "Name: count, dtype: int64"
      ]
     },
     "execution_count": 13,
     "metadata": {},
     "output_type": "execute_result"
    }
   ],
   "source": [
    "df['Vote_Average'].value_counts()"
   ]
  },
  {
   "cell_type": "code",
   "execution_count": 14,
   "id": "14a9d82e-14e1-4381-8b58-ae9efa894f71",
   "metadata": {},
   "outputs": [
    {
     "data": {
      "text/plain": [
       "Release_Date    0\n",
       "Title           0\n",
       "Popularity      0\n",
       "Vote_Count      0\n",
       "Vote_Average    0\n",
       "Genre           0\n",
       "year            0\n",
       "dtype: int64"
      ]
     },
     "execution_count": 14,
     "metadata": {},
     "output_type": "execute_result"
    }
   ],
   "source": [
    "df.isna().sum() # checking for the null values"
   ]
  },
  {
   "cell_type": "markdown",
   "id": "9491d857-1205-4dc0-b6c3-3c370c1f609c",
   "metadata": {},
   "source": [
    "# we'd split genres into a list and then explode our dataframe to have only one genre per row for each movie"
   ]
  },
  {
   "cell_type": "code",
   "execution_count": 15,
   "id": "16be99e7-bef9-4122-b343-96fb552ed6bb",
   "metadata": {},
   "outputs": [],
   "source": [
    "df['Genre'] = df['Genre'].str.split(', ')\n",
    "\n",
    "df = df.explode('Genre').reset_index(drop = True)"
   ]
  },
  {
   "cell_type": "code",
   "execution_count": 16,
   "id": "52804673-97a9-4807-b2ec-0cf09c52de8b",
   "metadata": {},
   "outputs": [],
   "source": [
    "# casting column into category\n",
    "\n",
    "df['Genre'] = df['Genre'].astype('category')"
   ]
  },
  {
   "cell_type": "markdown",
   "id": "a11a3367-cb31-47d4-b71d-44ba4ea71eba",
   "metadata": {},
   "source": [
    "# Data Visualization"
   ]
  },
  {
   "cell_type": "code",
   "execution_count": 17,
   "id": "2015ea7f-b91d-4b97-bd08-38bbcaffc030",
   "metadata": {},
   "outputs": [],
   "source": [
    "sns.set_style('whitegrid')"
   ]
  },
  {
   "cell_type": "markdown",
   "id": "933fb3f3-6a78-4f8a-9703-e0e10e59e36c",
   "metadata": {},
   "source": [
    "# What is the most frequent genre of movies released on Netflix ?"
   ]
  },
  {
   "cell_type": "code",
   "execution_count": 18,
   "id": "f0bb1726-0a25-4ad6-bbc8-dbaa02a81dbd",
   "metadata": {},
   "outputs": [
    {
     "data": {
      "text/plain": [
       "count     25793\n",
       "unique       19\n",
       "top       Drama\n",
       "freq       3744\n",
       "Name: Genre, dtype: object"
      ]
     },
     "execution_count": 18,
     "metadata": {},
     "output_type": "execute_result"
    }
   ],
   "source": [
    "df['Genre'].describe()"
   ]
  },
  {
   "cell_type": "code",
   "execution_count": 19,
   "id": "ef8c5d04-63e6-4c9f-8ea5-de07efad68d5",
   "metadata": {},
   "outputs": [
    {
     "data": {
      "image/png": "[encoded data removed]",
      "text/plain": [
       "<Figure size 500x500 with 1 Axes>"
      ]
     },
     "metadata": {},
     "output_type": "display_data"
    }
   ],
   "source": [
    "sns.catplot(y= 'Genre', data = df, kind = 'count', hue='Genre',\n",
    "            order = df[\"Genre\"].value_counts().index,\n",
    "            palette= 'cool'\n",
    "                )\n",
    "plt.title(\"Genre column distribution\")\n",
    "plt.show()"
   ]
  },
  {
   "cell_type": "markdown",
   "id": "68ff5ae4-b7e8-4f7b-9671-99857e827a53",
   "metadata": {},
   "source": [
    "# Which has highest votes in vote avg column ?"
   ]
  },
  {
   "cell_type": "code",
   "execution_count": 20,
   "id": "140526b9-f02e-415f-8f57-40bfbf1bfcee",
   "metadata": {},
   "outputs": [
    {
     "data": {
      "image/png": "[encoded data removed]",
      "text/plain": [
       "<Figure size 500x500 with 1 Axes>"
      ]
     },
     "metadata": {},
     "output_type": "display_data"
    }
   ],
   "source": [
    "sns.catplot(y= 'Vote_Average', data = df, kind = 'count', hue='Vote_Average',\n",
    "            order = df[\"Vote_Average\"].value_counts().index,\n",
    "            palette= 'bwr'\n",
    "                )\n",
    "plt.title(\"Votes distribution\")\n",
    "plt.show()"
   ]
  },
  {
   "cell_type": "markdown",
   "id": "6aea4d6b-331d-4fd6-bcc2-3359209eed1d",
   "metadata": {},
   "source": [
    "# What movie got the highest popularity ? what's its genre ?"
   ]
  },
  {
   "cell_type": "code",
   "execution_count": 21,
   "id": "6e32a9b7-771d-4d3f-b34e-b7f322f086dd",
   "metadata": {},
   "outputs": [
    {
     "data": {
      "text/html": [
       "<div>\n",
       "<style scoped>\n",
       "    .dataframe tbody tr th:only-of-type {\n",
       "        vertical-align: middle;\n",
       "    }\n",
       "\n",
       "    .dataframe tbody tr th {\n",
       "        vertical-align: top;\n",
       "    }\n",
       "\n",
       "    .dataframe thead th {\n",
       "        text-align: right;\n",
       "    }\n",
       "</style>\n",
       "<table border=\"1\" class=\"dataframe\">\n",
       "  <thead>\n",
       "    <tr style=\"text-align: right;\">\n",
       "      <th></th>\n",
       "      <th>Release_Date</th>\n",
       "      <th>Title</th>\n",
       "      <th>Popularity</th>\n",
       "      <th>Vote_Count</th>\n",
       "      <th>Vote_Average</th>\n",
       "      <th>Genre</th>\n",
       "      <th>year</th>\n",
       "    </tr>\n",
       "  </thead>\n",
       "  <tbody>\n",
       "    <tr>\n",
       "      <th>0</th>\n",
       "      <td>2021-12-15</td>\n",
       "      <td>Spider-Man: No Way Home</td>\n",
       "      <td>5083.954</td>\n",
       "      <td>8940</td>\n",
       "      <td>popular</td>\n",
       "      <td>Action</td>\n",
       "      <td>2021</td>\n",
       "    </tr>\n",
       "    <tr>\n",
       "      <th>1</th>\n",
       "      <td>2021-12-15</td>\n",
       "      <td>Spider-Man: No Way Home</td>\n",
       "      <td>5083.954</td>\n",
       "      <td>8940</td>\n",
       "      <td>popular</td>\n",
       "      <td>Adventure</td>\n",
       "      <td>2021</td>\n",
       "    </tr>\n",
       "    <tr>\n",
       "      <th>2</th>\n",
       "      <td>2021-12-15</td>\n",
       "      <td>Spider-Man: No Way Home</td>\n",
       "      <td>5083.954</td>\n",
       "      <td>8940</td>\n",
       "      <td>popular</td>\n",
       "      <td>Science Fiction</td>\n",
       "      <td>2021</td>\n",
       "    </tr>\n",
       "  </tbody>\n",
       "</table>\n",
       "</div>"
      ],
      "text/plain": [
       "  Release_Date                    Title  Popularity  Vote_Count Vote_Average  \\\n",
       "0   2021-12-15  Spider-Man: No Way Home    5083.954        8940      popular   \n",
       "1   2021-12-15  Spider-Man: No Way Home    5083.954        8940      popular   \n",
       "2   2021-12-15  Spider-Man: No Way Home    5083.954        8940      popular   \n",
       "\n",
       "             Genre  year  \n",
       "0           Action  2021  \n",
       "1        Adventure  2021  \n",
       "2  Science Fiction  2021  "
      ]
     },
     "execution_count": 21,
     "metadata": {},
     "output_type": "execute_result"
    }
   ],
   "source": [
    "df[df['Popularity'] == df['Popularity'].max()]"
   ]
  },
  {
   "cell_type": "markdown",
   "id": "9c4fb9e0-e9a5-43ba-af7b-31157f6e19a5",
   "metadata": {},
   "source": [
    "# What movie got the lowest popularity ? What's its genre ?"
   ]
  },
  {
   "cell_type": "code",
   "execution_count": 22,
   "id": "9a0c1eaf-620a-4100-a422-1d7681701855",
   "metadata": {},
   "outputs": [
    {
     "data": {
      "text/html": [
       "<div>\n",
       "<style scoped>\n",
       "    .dataframe tbody tr th:only-of-type {\n",
       "        vertical-align: middle;\n",
       "    }\n",
       "\n",
       "    .dataframe tbody tr th {\n",
       "        vertical-align: top;\n",
       "    }\n",
       "\n",
       "    .dataframe thead th {\n",
       "        text-align: right;\n",
       "    }\n",
       "</style>\n",
       "<table border=\"1\" class=\"dataframe\">\n",
       "  <thead>\n",
       "    <tr style=\"text-align: right;\">\n",
       "      <th></th>\n",
       "      <th>Release_Date</th>\n",
       "      <th>Title</th>\n",
       "      <th>Popularity</th>\n",
       "      <th>Vote_Count</th>\n",
       "      <th>Vote_Average</th>\n",
       "      <th>Genre</th>\n",
       "      <th>year</th>\n",
       "    </tr>\n",
       "  </thead>\n",
       "  <tbody>\n",
       "    <tr>\n",
       "      <th>25787</th>\n",
       "      <td>2021-03-31</td>\n",
       "      <td>The United States vs. Billie Holiday</td>\n",
       "      <td>13.354</td>\n",
       "      <td>152</td>\n",
       "      <td>average</td>\n",
       "      <td>Music</td>\n",
       "      <td>2021</td>\n",
       "    </tr>\n",
       "    <tr>\n",
       "      <th>25788</th>\n",
       "      <td>2021-03-31</td>\n",
       "      <td>The United States vs. Billie Holiday</td>\n",
       "      <td>13.354</td>\n",
       "      <td>152</td>\n",
       "      <td>average</td>\n",
       "      <td>Drama</td>\n",
       "      <td>2021</td>\n",
       "    </tr>\n",
       "    <tr>\n",
       "      <th>25789</th>\n",
       "      <td>2021-03-31</td>\n",
       "      <td>The United States vs. Billie Holiday</td>\n",
       "      <td>13.354</td>\n",
       "      <td>152</td>\n",
       "      <td>average</td>\n",
       "      <td>History</td>\n",
       "      <td>2021</td>\n",
       "    </tr>\n",
       "    <tr>\n",
       "      <th>25790</th>\n",
       "      <td>1984-09-23</td>\n",
       "      <td>Threads</td>\n",
       "      <td>13.354</td>\n",
       "      <td>186</td>\n",
       "      <td>average</td>\n",
       "      <td>War</td>\n",
       "      <td>1984</td>\n",
       "    </tr>\n",
       "    <tr>\n",
       "      <th>25791</th>\n",
       "      <td>1984-09-23</td>\n",
       "      <td>Threads</td>\n",
       "      <td>13.354</td>\n",
       "      <td>186</td>\n",
       "      <td>average</td>\n",
       "      <td>Drama</td>\n",
       "      <td>1984</td>\n",
       "    </tr>\n",
       "    <tr>\n",
       "      <th>25792</th>\n",
       "      <td>1984-09-23</td>\n",
       "      <td>Threads</td>\n",
       "      <td>13.354</td>\n",
       "      <td>186</td>\n",
       "      <td>average</td>\n",
       "      <td>Science Fiction</td>\n",
       "      <td>1984</td>\n",
       "    </tr>\n",
       "  </tbody>\n",
       "</table>\n",
       "</div>"
      ],
      "text/plain": [
       "      Release_Date                                 Title  Popularity  \\\n",
       "25787   2021-03-31  The United States vs. Billie Holiday      13.354   \n",
       "25788   2021-03-31  The United States vs. Billie Holiday      13.354   \n",
       "25789   2021-03-31  The United States vs. Billie Holiday      13.354   \n",
       "25790   1984-09-23                               Threads      13.354   \n",
       "25791   1984-09-23                               Threads      13.354   \n",
       "25792   1984-09-23                               Threads      13.354   \n",
       "\n",
       "       Vote_Count Vote_Average            Genre  year  \n",
       "25787         152      average            Music  2021  \n",
       "25788         152      average            Drama  2021  \n",
       "25789         152      average          History  2021  \n",
       "25790         186      average              War  1984  \n",
       "25791         186      average            Drama  1984  \n",
       "25792         186      average  Science Fiction  1984  "
      ]
     },
     "execution_count": 22,
     "metadata": {},
     "output_type": "execute_result"
    }
   ],
   "source": [
    "df[df['Popularity'] == df['Popularity'].min()]"
   ]
  },
  {
   "cell_type": "code",
   "execution_count": 23,
   "id": "6780fc38-1f3e-45f5-a21e-d7cd2a3c7c18",
   "metadata": {},
   "outputs": [
    {
     "data": {
      "image/png": "[encoded data removed]",
      "text/plain": [
       "<Figure size 800x800 with 1 Axes>"
      ]
     },
     "metadata": {},
     "output_type": "display_data"
    }
   ],
   "source": [
    "# Vote_Average category counts\n",
    "vote_counts = df['Vote_Average'].value_counts()\n",
    "\n",
    "# Pie chart\n",
    "plt.figure(figsize=(8, 8))\n",
    "plt.pie(vote_counts, labels=vote_counts.index, autopct='%1.1f%%', startangle=140, colors=plt.cm.Set3.colors)\n",
    "plt.title('Distribution of Movie Popularity Levels')\n",
    "plt.axis('equal')\n",
    "plt.show()"
   ]
  },
  {
   "cell_type": "markdown",
   "id": "8cd6d118-e8ec-48d1-9b6e-b7517c238761",
   "metadata": {},
   "source": [
    "# Which year has the most filmmed movies ?"
   ]
  },
  {
   "cell_type": "code",
   "execution_count": 24,
   "id": "32a7cb56-7955-441c-8c2f-abb67687a289",
   "metadata": {},
   "outputs": [
    {
     "data": {
      "image/png": "[encoded data removed]",
      "text/plain": [
       "<Figure size 640x480 with 1 Axes>"
      ]
     },
     "metadata": {},
     "output_type": "display_data"
    }
   ],
   "source": [
    "df[\"Release_Date\"].hist()\n",
    "plt.title(\"Yearly Movie Production Trends\")\n",
    "plt.show()"
   ]
  },
  {
   "cell_type": "code",
   "execution_count": 25,
   "id": "4a8f2962-0ef6-40f5-ac38-cc67bf5b1fb9",
   "metadata": {},
   "outputs": [
    {
     "data": {
      "image/png": "[encoded data removed]",
      "text/plain": [
       "<Figure size 800x800 with 1 Axes>"
      ]
     },
     "metadata": {},
     "output_type": "display_data"
    }
   ],
   "source": [
    "# Yearly movie count\n",
    "year_counts = df['year'].value_counts().head(5)  # Top 5 years\n",
    "other_years = df['year'].value_counts()[5:].sum()\n",
    "year_counts['Other'] = other_years\n",
    "\n",
    "# Pie chart\n",
    "plt.figure(figsize=(8, 8))\n",
    "plt.pie(year_counts, labels=year_counts.index, autopct='%1.1f%%', startangle=140, colors=plt.cm.tab20.colors)\n",
    "plt.title('Movies Released by Year (Top 5 Years)')\n",
    "plt.axis('equal')\n",
    "plt.show()"
   ]
  },
  {
   "cell_type": "markdown",
   "id": "51b40d10-7fa6-4c77-a72f-6217af0cf7f6",
   "metadata": {},
   "source": [
    "**Conclusion**\n",
    "\n",
    "Drama is the most frequent genre in the dataset, accounting for over 14% of all entries across 19 different genres.\n",
    "\n",
    "Approximately 25.5% of the movies in the dataset (6,520 entries) are classified as popular based on audience votes. Among these, Drama once again leads, representing more than 18.5% of the popular films.\n",
    "\n",
    "\"Spider-Man: No Way Home\" holds the highest popularity score in the dataset. It belongs to the genres of Action, Adventure, and Science Fiction.\n",
    "\n",
    "The film with the lowest popularity score is \"The United States vs. Billie Holiday\" and \"Thread\", which spans multiple genres including Music, Drama, War, Science Fiction, and History.\n",
    "\n",
    "The year 2020 saw the highest number of films produced, making it the peak year for filmmaking activity in the dataset"
   ]
  },
  {
   "cell_type": "code",
   "execution_count": null,
   "id": "504ec2e3-1231-4deb-ac8e-e78d1074e7e2",
   "metadata": {},
   "outputs": [],
   "source": []
  }
 ],
 "metadata": {
  "kernelspec": {
   "display_name": "Python 3 (ipykernel)",
   "language": "python",
   "name": "python3"
  },
  "language_info": {
   "codemirror_mode": {
    "name": "ipython",
    "version": 3
   },
   "file_extension": ".py",
   "mimetype": "text/x-python",
   "name": "python",
   "nbconvert_exporter": "python",
   "pygments_lexer": "ipython3",
   "version": "3.13.0"
  }
 },
 "nbformat": 4,
 "nbformat_minor": 5
}
